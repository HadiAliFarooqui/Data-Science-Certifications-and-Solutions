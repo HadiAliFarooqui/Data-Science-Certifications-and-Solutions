{
 "cells": [
  {
   "cell_type": "markdown",
   "metadata": {},
   "source": [
    "# R 101 Cognitive Class RP0101EN"
   ]
  },
  {
   "cell_type": "markdown",
   "metadata": {},
   "source": [
    "# Module 1- R basic"
   ]
  },
  {
   "cell_type": "code",
   "execution_count": null,
   "metadata": {},
   "outputs": [],
   "source": [
    "REVIEW QUESTION 1 \n",
    "Vectors in R can be which of the following types?\n",
    "output- Logical  Numeric  Character  \n",
    "        All of the above (Correct)\n",
    "    \n",
    "REVIEW QUESTION 2 \n",
    "What would be the output in R given: c(1,2) == 1 ?\n",
    "    output- TRUE FALSE\n",
    "    \n",
    "REVIEW QUESTION 3\n",
    "How would you retrieve the items larger than 5 (as in 15 and 10)\n",
    "from the following vector: costs <- c(3, 15, 3, 10)?\n",
    "    output- costs[costs > 5] \n",
    "    "
   ]
  },
  {
   "cell_type": "markdown",
   "metadata": {},
   "source": [
    "# Module 2- Data Structures in R"
   ]
  },
  {
   "cell_type": "code",
   "execution_count": null,
   "metadata": {},
   "outputs": [],
   "source": [
    "REVIEW QUESTION 1 \n",
    "Give a 5 x 5 matrix object, movies, how would you retrieve the bottom-left item?\n",
    "    output- movies[5,1]\n",
    "    \n",
    "REVIEW QUESTION 2\n",
    "Below we create a list for a student and his info. Select all the correct options can we use to retrieve his courses? \n",
    "john <- list(“studentid“ = 9, “age” = 18, “courses” = c(“Data Science 101”, “Data Science Methodology”))\n",
    "output--\n",
    " john[“courses”]  john[3]  john$courses  \n",
    "    All the above options are correct (correct)\n",
    "    \n",
    "REVIEW QUESTION 3\n",
    "Select the correct code from the following options which produces the following result?\n",
    "output-\n",
    " data.frame(\"student\" = c(\"john\", \"mary\"), \"id\" = c(1, 2)) \n",
    "    \n",
    "    "
   ]
  },
  {
   "cell_type": "markdown",
   "metadata": {},
   "source": [
    "# Module 3 - R programming fundamentals"
   ]
  },
  {
   "cell_type": "code",
   "execution_count": null,
   "metadata": {},
   "outputs": [],
   "source": [
    "REVIEW QUESTION 1 \n",
    "What output will the following produce?\n",
    "\n",
    "chance_precipitation <- 0.80\n",
    "if( chance_precipitation > 0.5 ) {\n",
    "    print(\"Bring an umbrella\") } else {\n",
    "        print(\"Don't bring an umbrella\")}\n",
    "\n",
    "output- \"Bring an umbrella\"\n",
    "\n",
    "REVIEW QUESTION 2 \n",
    "Which of the following statements are true?\n",
    "output-\n",
    " 1. Using return() when writing a function is optional when you just want\n",
    "the result of the last line in the function to be the output of the function.\n",
    " 2. Using return() is useful when you want to produce outputs based on different conditions.\n",
    "\n",
    "REVIEW QUESTION 3 \n",
    "Which of the following would you use to check the class of the object, myobject?\n",
    "    output- class(myobject)"
   ]
  },
  {
   "cell_type": "markdown",
   "metadata": {},
   "source": [
    "# Module 4- Working with data in R"
   ]
  },
  {
   "cell_type": "code",
   "execution_count": null,
   "metadata": {},
   "outputs": [],
   "source": [
    "REVIEW QUESTION 1 \n",
    "What does CSV stand for, when talking about tabular data files?\n",
    "    output- Comma-separated values\n",
    "    \n",
    "REVIEW QUESTION 2 \n",
    "Which of the following are true?\n",
    "output--\n",
    "    read.csv() can be used to read in CSV files  \n",
    "    You need to install libraries, such as the “readxl” library, to read Excel files into R \n",
    "    You can load specified datasets or list the available datasets using data() \n",
    "    You can write to a variety of filetypes, including .txt, .csv, .xls, .xlsx, and .Rdata.\n",
    "    \n",
    "REVIEW QUESTION 3 \n",
    "To get the number of characters in a character vector, char_vec, what function can you use?\n",
    "    output- nchar(char_vec)"
   ]
  },
  {
   "cell_type": "markdown",
   "metadata": {},
   "source": [
    "# Module 5- Strings and Dates in R"
   ]
  },
  {
   "cell_type": "code",
   "execution_count": null,
   "metadata": {},
   "outputs": [],
   "source": [
    "REVIEW QUESTION 1 \n",
    "How would you combine the individual words from the vector, hw, into a single string, \"Hello World\"?\n",
    "hw <- c(\"Hello\", \"World\")\n",
    "     output-- paste(hw, collapse = \" \")\n",
    "    \n",
    "REVIEW QUESTION 2 \n",
    "How would you convert the character string \"2020-01-01\" into a Date object in R?\n",
    "    output--as.Date(\"2020-01-01\") \n",
    "    \n",
    "REVIEW QUESTION 3 \n",
    "What does the following regular expression pattern mean?\".*@.+\"\n",
    "    output-- Find matches containing an @ symbol where there is zero or more\n",
    "    characters before the @ symbol, and at least one character after the @ symbol. "
   ]
  },
  {
   "cell_type": "markdown",
   "metadata": {},
   "source": [
    "# TEST"
   ]
  },
  {
   "cell_type": "code",
   "execution_count": null,
   "metadata": {},
   "outputs": [],
   "source": [
    "QUESTION 1 \n",
    "Which of the following will return TRUE?\n",
    "1 > 2  ”Apples” = “Bananas”  TRUE = FALSE  2.1 in c(1.5, 3.14)  \n",
    "    None of the above(correct)\n",
    "\n",
    "QUESTION 2 \n",
    "Which of the following will print out the numbers 1, 2, and 3 only?\n",
    "output--(ALL)\n",
    "     for(num in c(1,2,3)) {print(num)}  \n",
    "    c(1,2,3)  \n",
    "    c(1:3)\n",
    "    c(0,1,2,3,4,5)[2:4]\n",
    "    \n",
    "QUESTION 3 \n",
    "How would you get the average of: ratings <- c(8.0, 8.5, 9.0)\n",
    "    output-- mean(ratings)\n",
    "    \n",
    "QUESTION 4 \n",
    "How would you convert the following character vector into an integer vector?\n",
    "my_vector <- c(\"1992\", \"2016\", \"2012\", \"2018\")\n",
    " output-\n",
    "    as.integer(my_vector) \n",
    "    \n",
    "QUESTION 5 \n",
    "If you know an error might occur, what can you do?\n",
    "output--\n",
    " Think about why the error is happening and attempt to fix the code.  Catch the error using the tryCatch() function.  All of the above.\n",
    "    All of the above. - (correct)\n",
    "    \n",
    "QUESTION 6 \n",
    "You have a file, “november.csv”, in the directory, “/Documents/expenses/“. How do you read this file into R?\n",
    "    output--  read.csv(“/Documents/expenses/november.csv”) \n",
    "\n",
    "QUESTION 7 \n",
    "You opened a dataset and noticed a row showing Leonardo DiCaprio’s birthday as 153360000. What does it mean?\n",
    "output-\n",
    " 153360000 is a UNIX timestamp; it is the number of seconds since 1970-01-01 00:00:00.\n",
    "                    \n",
    " QUESTION 8 \n",
    "The following code will produce which of the following outputs?\n",
    "grep(\"milk.+\", c(\"cow's milk\", \"milkshake\", \"milky\", \"cat\", \"milk1\", \"milk\"), value = T)\n",
    "    output- \"milkshake\" \"milky\" \"milk1\" \n",
    "    \n",
    "QUESTION 9 \n",
    "You want to split a full name, “John Doe”, into a vector containing two elements: “John” and “Doe”. How would you do so?\n",
    "fullname <- “John Doe”\n",
    "    output-  unlist(strsplit(fullname, “ “))\n",
    "    \n",
    "QUESTION 10 \n",
    "In R, x <- 1 is the same as x == 1\n",
    "    output- false\n",
    "\n",
    "QUESTION 11 \n",
    "Look at the code below. How many levels does the factor, drinks, have?\n",
    "drinks <- factor(c(“tea”, “coffee”, “soft drink”, “tea”, “hot chocolate”, “hot chocolate”, “coffee”))\n",
    "    output-none(6)\n",
    "\n",
    "QUESTION 12 \n",
    "To remove an existing column, “firstname”, from a data frame named “people”, which of the following code should you use?\n",
    "    output-people$firstname <- NULL \n",
    "\n",
    "QUESTION 13 \n",
    "To retrieve the third row of an array named “myarray\", which of the following code should you use?\n",
    "    output- myarray[3,]\n",
    "\n",
    "QUESTION 14 (1/1 point)\n",
    "How would you get the average of the third column of a data frame named “df”?\n",
    "    output- mean(df[,3])\n",
    "\n",
    "QUESTION 15 (1/1 point)\n",
    "What is the expected output of the following script?\n",
    "myfunc <- function(x, y = 2){\n",
    "x = x + 10\n",
    "y = y + 100\n",
    "return(y)\n",
    "}\n",
    "myfunc(3)\n",
    "            output--102 "
   ]
  },
  {
   "cell_type": "code",
   "execution_count": null,
   "metadata": {},
   "outputs": [],
   "source": []
  },
  {
   "cell_type": "code",
   "execution_count": null,
   "metadata": {},
   "outputs": [],
   "source": []
  }
 ],
 "metadata": {
  "kernelspec": {
   "display_name": "Python 3",
   "language": "python",
   "name": "python3"
  },
  "language_info": {
   "codemirror_mode": {
    "name": "ipython",
    "version": 3
   },
   "file_extension": ".py",
   "mimetype": "text/x-python",
   "name": "python",
   "nbconvert_exporter": "python",
   "pygments_lexer": "ipython3",
   "version": "3.6.4"
  }
 },
 "nbformat": 4,
 "nbformat_minor": 2
}
