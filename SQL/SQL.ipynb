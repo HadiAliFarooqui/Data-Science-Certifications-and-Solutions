{
 "cells": [
  {
   "cell_type": "markdown",
   "metadata": {},
   "source": [
    "# SQL and Relational Databases 101 Big Data University DB0101EN"
   ]
  },
  {
   "cell_type": "markdown",
   "metadata": {},
   "source": [
    "# Module 1- SQL and Relatonal Databases 101"
   ]
  },
  {
   "cell_type": "code",
   "execution_count": null,
   "metadata": {},
   "outputs": [],
   "source": [
    "REVIEW QUESTION 1 \n",
    "What is a Database?\n",
    "output--\n",
    "    A program that stores data \n",
    "    Stores data in tabular form \n",
    "    A repository of data\n",
    "    All of the above(Correct)\n",
    "\n",
    "REVIEW QUESTION 2 \n",
    "Advantages of the relational model include:\n",
    "Output--\n",
    "    Provides logical and physical data independence \n",
    "    Data is stored in simple data structures \n",
    "    It is the most used data model  \n",
    "    All of the above All of the above - correct\n",
    "    \n",
    "REVIEW QUESTION 3 \n",
    "In an Entity-Relationship diagram, \n",
    "the Entity Name maps to the Table name, the attributes map to the ...\n",
    "output-- Table Columns\n"
   ]
  },
  {
   "cell_type": "markdown",
   "metadata": {},
   "source": [
    "# Module 2 - Relational Model Constraints and Data Objects"
   ]
  },
  {
   "cell_type": "code",
   "execution_count": null,
   "metadata": {},
   "outputs": [],
   "source": [
    "REVIEW QUESTION 1 \n",
    "Which of the following statements is true?\n",
    "output- \n",
    "    A table can have a primary key and a foreign key \n",
    "    A Foreign Key is a set of columns referring to a primary key of another table  \n",
    "    A primary key uniquely identifies each row in a table  \n",
    "    All Of the Above(Correct Ans)\n",
    "    \n",
    "REVIEW QUESTION 2 \n",
    "Which Relational Constraint prevents duplicate values in a table?\n",
    "    output- Entity Integrity constraint \n",
    "    \n",
    "REVIEW QUESTION 3 \n",
    "The Semantic Integrity Constraint defines the relationships between tables. (T/F)\n",
    "output- FALSE\n",
    "                                                                             "
   ]
  },
  {
   "cell_type": "markdown",
   "metadata": {},
   "source": [
    "# MODULE 3-Data Definition Language(DDL) and Data Manipulation Language(DML)"
   ]
  },
  {
   "cell_type": "code",
   "execution_count": null,
   "metadata": {},
   "outputs": [],
   "source": [
    "REVIEW QUESTION 1 \n",
    "The Primary Key of a relational table uniquely identifies each _____ in a table.\n",
    "    output- Row\n",
    "    \n",
    "REVIEW QUESTION 2 \n",
    "The INSERT statement cannot be used to insert multiple rows in a single statement. (T/F)\n",
    "    output- False\n",
    "    \n",
    "REVIEW QUESTION 3 \n",
    "The SELECT statement is called a Query, and the output we get from executing the query is called a Result Set.\n",
    "    output- True "
   ]
  },
  {
   "cell_type": "markdown",
   "metadata": {},
   "source": [
    "# Module 4- Advanced DDL and DML"
   ]
  },
  {
   "cell_type": "code",
   "execution_count": null,
   "metadata": {},
   "outputs": [],
   "source": [
    "REVIEW QUESTION 1\n",
    "You want to select an author’s name from a table, but you only remember \n",
    "the author’s last name starts with the letter B, which string pattern can you use?\n",
    "    output--SELECT lastname from author where lastname like ‘B%’\n",
    "\n",
    "REVIEW QUESTION 2 \n",
    "In a SELECT statement, which SQL clause controls how the result set is displayed?\n",
    "    output-- ORDER BY clause\n",
    "    \n",
    "REVIEW QUESTION 3 \n",
    "Which SELECT statement eliminates duplicates in the result set?\n",
    "    output-- SELECT distinct(country) from author\n",
    "    "
   ]
  },
  {
   "cell_type": "markdown",
   "metadata": {},
   "source": [
    "# Module 5- Working with multiple tables"
   ]
  },
  {
   "cell_type": "code",
   "execution_count": null,
   "metadata": {},
   "outputs": [],
   "source": [
    "REVIEW QUESTION 1 \n",
    "An INNER JOIN returns only the rows that match. (T/F)\n",
    "    output--True\n",
    "    \n",
    "REVIEW QUESTION 2 \n",
    "A LEFT OUTER JOIN displays all the rows from the right table, \n",
    "and combines matching rows from the left table. (T/F)\n",
    "    output- False\n",
    "\n",
    "REVIEW QUESTION 3 \n",
    "When using an OUTER JOIN, you must explicitly state that you want either\n",
    "a LEFT JOIN or a RIGHT JOIN. (T/F)\n",
    "    output- True\n",
    "\n"
   ]
  },
  {
   "cell_type": "markdown",
   "metadata": {},
   "source": [
    "# TEST"
   ]
  },
  {
   "cell_type": "code",
   "execution_count": null,
   "metadata": {},
   "outputs": [],
   "source": [
    "QUESTION 1\n",
    "The 5 basic SQL commands are...\n",
    "    output- CREATE, SELECT, INSERT, UPDATE, DELETE\n",
    "    \n",
    "QUESTION 2 \n",
    "The blueprint of any database system is the ...\n",
    "    output- Data model\n",
    "    \n",
    "QUESTION 3 \n",
    "Attributes help clarify relationship diagrams (T/F)\n",
    "    output- False\n",
    "    \n",
    "QUESTION 4 \n",
    "A table containing one or more foreign keys is called a Parent table. (T/F)\n",
    "    output- False\n",
    "\n",
    "QUESTION 5 \n",
    "The Referential Integrity Constraint ensures the validity of the data using a combination of Primary Keys and Foreign Keys.\n",
    "    output- True \n",
    "    \n",
    "QUESTION 6 \n",
    "What are the basic categories of the SQL language based on functionality?\n",
    "output-(Both Above)\n",
    "     Data Manipulation Language \n",
    "     Data Definition Language\n",
    "        \n",
    "QUESTION 7 \n",
    "The CREATE TABLE statement is a....\n",
    "    output- DDL statement\n",
    "    \n",
    "QUESTION 8 \n",
    "When using the UPDATE statement, if you do not specify the WHERE clause, all the rows in the table are updated.\n",
    "    output- True\n",
    "\n",
    "QUESTION 9 \n",
    "You want to select a list of books whose number of pages is between 100 and 200 .\n",
    "Select the correct query from the following options.\n",
    "output-\n",
    " SELECT title, pages from book where pages BETWEEN 100 AND 200\n",
    "    \n",
    "QUESTION 10 \n",
    "What is the default sorting mode of the ORDER BY clause?\n",
    "    output- Ascending\n",
    "    \n",
    "QUESTION 11 \n",
    "Which of the following can be used in a SELECT statement to restrict a result set?\n",
    "output-\n",
    " HAVING  GROUP BY  DISTINCT  All of the above(Correct)\n",
    "    \n",
    "QUESTION 12\n",
    "The HAVING clause works only with the GROUP BY clause. (T/F)\n",
    "    output-True\n",
    "    \n",
    "QUESTION 13 \n",
    "Which of the following are valid types of OUTER JOIN?\n",
    "Output-\n",
    "     LEFT OUTER JOIN \n",
    "    RIGHT OUTER JOIN \n",
    "    FULL OUTER JOIN \n",
    "    All of the above(Correct)\n",
    "    \n",
    "QUESTION 14 \n",
    "A FULL JOIN returns only the rows that match. (T/F)\n",
    "    output- False\n",
    "    \n",
    "QUESTION 15 \n",
    "To combine tables in relational databases , we use:\n",
    "    output- Matching values/Primary Key\n",
    "    \n",
    "QUESTION 16 \n",
    "Semantic integrity ensures that data entered into a row reflects an allowable value for that row.\n",
    "    output- True\n",
    "    \n",
    "QUESTION 17 \n",
    "Which of the following statements are correct about databases :\n",
    "output--\n",
    " A database represents some aspect of the real world \n",
    "A database is a logically coherent collection of data with some inherent meaning \n",
    "A database is designed, built and populated with data for a specific purpose \n",
    "All the above option (correct)\n",
    "\n",
    "QUESTION 18 \n",
    "Which of the following statements are correct about primary keys\n",
    "output--\n",
    "    The value of the Primary Key must be unique for each instance of the entity. \n",
    "    There can be no missing values( ie. Not Null) for Primary Keys. \n",
    "    The Primary Key is immutable.i.e., once created the value of the Primary Key cannot be changed. \n",
    "    All the above options(correct)\n",
    "    \n",
    "QUESTION 19 \n",
    "The ____________ keyword is used to eliminate duplicate tuples from the result set of an SQL query.\n",
    "    output- DISTINCT\n",
    "    \n",
    "QUESTION 20 (1/1 point)\n",
    "Select the correct statements about the join operator\n",
    "output-\n",
    " PrimaryKey- ForeignKey is the common join operator \n",
    "    Is used to combine more than one table \n",
    "    You have to know the relationship between the tables\n"
   ]
  }
 ],
 "metadata": {
  "kernelspec": {
   "display_name": "Python 3",
   "language": "python",
   "name": "python3"
  },
  "language_info": {
   "codemirror_mode": {
    "name": "ipython",
    "version": 3
   },
   "file_extension": ".py",
   "mimetype": "text/x-python",
   "name": "python",
   "nbconvert_exporter": "python",
   "pygments_lexer": "ipython3",
   "version": "3.6.4"
  }
 },
 "nbformat": 4,
 "nbformat_minor": 2
}
