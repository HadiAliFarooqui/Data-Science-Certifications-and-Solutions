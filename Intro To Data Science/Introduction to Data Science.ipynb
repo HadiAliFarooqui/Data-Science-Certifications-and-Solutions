{
 "cells": [
  {
   "cell_type": "markdown",
   "metadata": {},
   "source": [
    "# Introduction to Data Science Cognitive Class DS0101EN"
   ]
  },
  {
   "cell_type": "markdown",
   "metadata": {},
   "source": [
    "# Module 1- Defining Data Science"
   ]
  },
  {
   "cell_type": "code",
   "execution_count": null,
   "metadata": {},
   "outputs": [],
   "source": [
    "REVIEW QUESTION 1\n",
    "In the report by the McKinsey Global Institute, by 2018, it is projected that there will be a shortage of people with deep analytical skills in the United States. What is the size of this shortage?\n",
    "    output- 140 000 – 190 000 people\n",
    "    \n",
    "REVIEW QUESTION 2 \n",
    "How is Walmart reported to have addressed its analytical needs?\n",
    "    output-Crowdsourcing \n",
    "    \n",
    "REVIEW QUESTION 3 \n",
    "In the reading, the New York Times reported the base salary for data scientists as:\n",
    "    output- $112 000\n",
    "    "
   ]
  },
  {
   "cell_type": "markdown",
   "metadata": {},
   "source": [
    "# Module 2- What do data science people do?"
   ]
  },
  {
   "cell_type": "code",
   "execution_count": null,
   "metadata": {},
   "outputs": [],
   "source": [
    "REVIEW QUESTION 1 \n",
    "In the reading, what was the real added value of the research?\n",
    "    output-Quantifying the magnitude of relationships\n",
    "    \n",
    "REVIEW QUESTION 2 \n",
    "In the reading, what is an example of a question that can be put to a regression analysis?\n",
    "    output-  What is the impact of lot size on housing price? \n",
    "\n",
    "REVIEW QUESTION 3\n",
    "Who developed the statistical technique known as Regression?\n",
    "    output- Sir Frances Galton"
   ]
  },
  {
   "cell_type": "markdown",
   "metadata": {},
   "source": [
    "# Module 3- Data Science in Business"
   ]
  },
  {
   "cell_type": "code",
   "execution_count": null,
   "metadata": {},
   "outputs": [],
   "source": [
    "REVIEW QUESTION 1 \n",
    "In the reading, what is the ultimate purpose of analytics:\n",
    "     output-  To communicate findings to the concerned \n",
    "        \n",
    "REVIEW QUESTION 2 \n",
    "In the reading, the report successfully did the job of:\n",
    "    output- Using data and analytics to generate the likely economic scenarios\n",
    "    \n",
    "REVIEW QUESTION 3 \n",
    "In this reading, what is the role of the data scientist?\n",
    "    output-  Use the insights to build the narrative to communicate the findings "
   ]
  },
  {
   "cell_type": "markdown",
   "metadata": {},
   "source": [
    "# Module 4- Use Cases for Data Science"
   ]
  },
  {
   "cell_type": "code",
   "execution_count": null,
   "metadata": {},
   "outputs": [],
   "source": [
    "REVIEW QUESTION 1 \n",
    "An introductory section is always helpful in:\n",
    "    output- Setting up the problem for the reader \n",
    "\n",
    "REVIEW QUESTION 2 \n",
    "The results section is where you present:\n",
    "    output- The empirical findings\n",
    "    \n",
    "REVIEW QUESTION 3 \n",
    "In the reading, what is an example of housekeeping?\n",
    "    output-  Including a list of references\n"
   ]
  },
  {
   "cell_type": "markdown",
   "metadata": {},
   "source": [
    "# Module 5- Data Science People"
   ]
  },
  {
   "cell_type": "code",
   "execution_count": null,
   "metadata": {},
   "outputs": [],
   "source": [
    "REVIEW QUESTION 1 \n",
    "In the reading, how does the author define ‘data science’?\n",
    "    output- Data science is what data scientists do \n",
    "    \n",
    "REVIEW QUESTION 2 \n",
    "In the reading, what is admirable about Dr. Patil’s definition of a ‘data scientist’?\n",
    "    output- His definition is inclusive of individuals from various academic backgrounds and training\n",
    "    \n",
    "REVIEW QUESTION 3\n",
    "In the reading, what characteristics are said to be exhibited by “The best” data scientists?\n",
    "    output- \n",
    "        Thinkers, ask good questions, O.K. dealing with unstructured situations "
   ]
  },
  {
   "cell_type": "markdown",
   "metadata": {},
   "source": [
    "# TEST"
   ]
  },
  {
   "cell_type": "code",
   "execution_count": null,
   "metadata": {},
   "outputs": [],
   "source": [
    "QUESTION 1 \n",
    "In the reading, the output of a data mining exercise largely depends on:\n",
    "    output- Data Scientist\n",
    "\n",
    "QUESTION 2 \n",
    "In the reading, what are some of the steps down the data mine?\n",
    "    output -  Establish goals, select data, pre-process data, transform data\n",
    "\n",
    "QUESTION 3 \n",
    "What should you do when data are missing in a systematic way?\n",
    "    output -  Determine the impact of missing data on the results \n",
    "\n",
    "QUESTION 4\n",
    "What is an example of a data reduction algorithm?\n",
    "    output -  Principal Component Analysis\n",
    "\n",
    "QUESTION 5 \n",
    "What should be a prime concern for storing data?\n",
    "    output - Data safety and privacy \n",
    "\n",
    "QUESTION 6\n",
    "What is a good starting point for data mining?\n",
    "    output - Data Visualization \n",
    "\n",
    "QUESTION 7 \n",
    "When evaluating mining results, data mining and evaluating becomes:\n",
    "    output - An iterative Process\n",
    "\n",
    "QUESTION 8 \n",
    "When establishing data mining goals, the accuracy expected from the results also influences the:\n",
    "    output - The Costs\n",
    "\n",
    "QUESTION 9 \n",
    "When processing data, what factor can lead to errors in data?\n",
    "    output - Human Error\n",
    "\n",
    "QUESTION 10 \n",
    "“Formal evaluation could include testing the predictive capabilities of the models on observed data to see how effective and \n",
    "efficient the algorithms have been in reproducing data.” This is known as:\n",
    "    output -  In-sample forecast\n"
   ]
  }
 ],
 "metadata": {
  "kernelspec": {
   "display_name": "Python 3",
   "language": "python",
   "name": "python3"
  },
  "language_info": {
   "codemirror_mode": {
    "name": "ipython",
    "version": 3
   },
   "file_extension": ".py",
   "mimetype": "text/x-python",
   "name": "python",
   "nbconvert_exporter": "python",
   "pygments_lexer": "ipython3",
   "version": "3.6.4"
  }
 },
 "nbformat": 4,
 "nbformat_minor": 2
}
