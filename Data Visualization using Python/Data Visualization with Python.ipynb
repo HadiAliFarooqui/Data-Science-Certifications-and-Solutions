{
 "cells": [
  {
   "cell_type": "markdown",
   "metadata": {},
   "source": [
    "# Data Visualization with Python Cognitive Class DV0101EN"
   ]
  },
  {
   "cell_type": "markdown",
   "metadata": {},
   "source": [
    "# Module 1- Introduction to Visualization tools"
   ]
  },
  {
   "cell_type": "code",
   "execution_count": null,
   "metadata": {},
   "outputs": [],
   "source": [
    "REVIEW QUESTION 1 \n",
    "What are the layers that make up the Matplotlib architecture?\n",
    "    output-  Backend Layer, Artist Layer, and Scripting Layer. \n",
    "\n",
    "REVIEW QUESTION 2 \n",
    "Using the inline backend, you can modify a figure after it is rendered.\n",
    "    output- False\n",
    "    \n",
    "REVIEW QUESTION 3 \n",
    "Which of the following are examples of Matplotlib magic functions? Choose all that apply.\n",
    "    output- %matplotlib inline\n",
    "            %matplotlib notebook\n",
    "        "
   ]
  },
  {
   "cell_type": "markdown",
   "metadata": {},
   "source": [
    "# Module 2- Basic Visualization Tools"
   ]
  },
  {
   "cell_type": "code",
   "execution_count": null,
   "metadata": {},
   "outputs": [],
   "source": [
    "REVIEW QUESTION 1 \n",
    "Area plots are stacked by default.\n",
    "    output- True\n",
    "    \n",
    "REVIEW QUESTION 2 \n",
    "Given a pandas series, series_data, which of the following will create a histogram \n",
    "of series_data and align the bin edges with the horizontal tick marks?\n",
    "output-\n",
    "    count, bin_edges = np.histogram(series_data)\n",
    "    series_data.plot(kind='hist', xticks = bin_edges)\n",
    "    \n",
    "REVIEW QUESTION 3 \n",
    "Given a pandas dataframe, question, which of the following will create a horizontal barchart of the data in question?\n",
    "    output-  question.plot(kind='barh') \n",
    "    "
   ]
  },
  {
   "cell_type": "markdown",
   "metadata": {},
   "source": [
    "# Module 3- Specialized Visualization Tools"
   ]
  },
  {
   "cell_type": "code",
   "execution_count": null,
   "metadata": {},
   "outputs": [],
   "source": [
    "REVIEW QUESTION 1 \n",
    "Pie charts are less confusing than bar charts and should be your first attempt when creating a visual.\n",
    "    output- False\n",
    "\n",
    "REVIEW QUESTION 2\n",
    "Image link--\n",
    "https://courses.cognitiveclass.ai/asset-v1:CognitiveClass+DV0101EN+v1+type@asset+block/boxplot.png\n",
    "        \n",
    "output-\n",
    "A = Median, B = Third Quartile, C = First Quartile, D = Inter Quartile Range, E = Minimum, and F = Outliers\n",
    "\n",
    "REVIEW QUESTION 3 \n",
    "What is the correct combination of function and parameter to create a box plot in Matplotlib?\n",
    "output-\n",
    " Function = plot, and Parameter = kind, with value = \"box\" "
   ]
  },
  {
   "cell_type": "markdown",
   "metadata": {},
   "source": [
    "# Module 4- Advanced Visualization Tools"
   ]
  },
  {
   "cell_type": "code",
   "execution_count": null,
   "metadata": {},
   "outputs": [],
   "source": [
    "REVIEW QUESTION 1\n",
    "Image link-\n",
    "https://courses.cognitiveclass.ai/asset-v1:CognitiveClass+DV0101EN+v1+type@asset+block/Screen_Shot_2017-07-24_at_9.25.35_AM.png\n",
    "\n",
    "Which of the choices below will create the following regression line plot, given a pandas dataframe, data_dataframe?\n",
    "\n",
    "Output-\n",
    "import seaborn as sns\n",
    "ax = sns.regplot(x=\"year\", y=\"total\", data=data_dataframe, color=\"green\", marker=\"+\")\n",
    "\n",
    "REVIEW QUESTION 2 \n",
    "In Python, creating a waffle chart is straightforward since we can easily create one using the \n",
    "scripting layer of Matplotlib.\n",
    "    output- False\n",
    "\n",
    "REVIEW QUESTION 3 \n",
    "A word cloud (choose all that apply)\n",
    "output-\n",
    "     is a depiction of the frequency of different words in some textual data.\n",
    "     is a depiction of the meaningful words in some textual data, where the more\n",
    "        a specific word appears in the text, the bigger and bolder it appears in the word cloud.\n",
    "     can be generated in Python using the word_cloud library that was developed by Andreas Mueller."
   ]
  },
  {
   "cell_type": "markdown",
   "metadata": {},
   "source": [
    "# Module 5- Creating maps and visualizing Geospatial Data"
   ]
  },
  {
   "cell_type": "code",
   "execution_count": null,
   "metadata": {},
   "outputs": [],
   "source": [
    "REVIEW QUESTION 1 \n",
    "What tile style of Folium maps is usefule for data mashups and exploring river meanders and coastal zones?\n",
    "    output-  Stamen Toner\n",
    "    \n",
    "REVIEW QUESTION 2 \n",
    "You cluster markers superimposed onto a map in Folium using a feature group object.\n",
    "    output- False\n",
    "    \n",
    "REVIEW QUESTION 3\n",
    "If you are interested in generating a map of Spain to visualize its hill shading and natural vegetation, \n",
    "which of the following lines of code will create the right map for you?\n",
    "    output-\n",
    "     folium.Map(location=[40.4637, -3.7492], zoom_start=6, tiles='Stamen Terrain') \n",
    "\n"
   ]
  },
  {
   "cell_type": "markdown",
   "metadata": {},
   "source": [
    "# TEST"
   ]
  },
  {
   "cell_type": "code",
   "execution_count": null,
   "metadata": {},
   "outputs": [],
   "source": [
    "QUESTION 1 \n",
    "Data visualizations are used to (check all that apply)\n",
    "output--\n",
    "    perform data analytics and build predictive models.\n",
    "    share unbiased representation of data.\n",
    "     support recommendations to different stakeholders.\n",
    "        \n",
    "QUESTION 2 \n",
    "Matplotlib was created by John Hunter, an American neurobiologist, and was originally developed as an EEG/ECoG visualization tool.\n",
    "output- True\n",
    "\n",
    "QUESTION 3 \n",
    "What are the layers that make up the Matplotlib architecture?\n",
    "output-  Backend Layer, Artist Layer, and Scripting Layer.\n",
    "\n",
    "QUESTION 4 \n",
    "Using the notebook backend, you can modify a figure after it is rendered.\n",
    "    output- True\n",
    "    \n",
    "QUESTION 5\n",
    "The scripting layer is (check all that apply)\n",
    "output-\n",
    "     comprised mainly of pyplot.\n",
    "     lighter that the Artist layer, and is intended for scientists whose goal is to perform quick exploratory analysis.\n",
    "    \n",
    "QUESTION 6 \n",
    "Which of the following are instances of the Artist object? (check all that apply)\n",
    "output-\n",
    "    Tiles\n",
    "    Tick Labels\n",
    "    Images\n",
    "    \n",
    "QUESTION 7\n",
    "There are three types of Artist objects.\n",
    "    output- False\n",
    "    \n",
    "\n",
    "QUESTION 8 \n",
    "Each primitive artist may contain other composite artists as well as primitive artists.\n",
    "    output- False\n",
    "    \n",
    "QUESTION 9 \n",
    "Given a pandas dataframe, question, which of the following will create a horizontal barchart of the data in question?\n",
    "    output-  question.plot(kind='barh') \n",
    "\n",
    "QUESTION 10\n",
    "Pie charts are relevant only in the rarest of circumstances, and bar charts are far superior ways to quickly get a message across.\n",
    "    output- True\n",
    "    \n",
    "QUESTION 11\n",
    "What do the letters in the box plot above represent?\n",
    "Image link-\n",
    "https://courses.cognitiveclass.ai/asset-v1:CognitiveClass+DV0101EN+v1+type@asset+block/boxplot.png\n",
    "        \n",
    "output-\n",
    "A = Median, B = Third Quartile, C = First Quartile, D = Inter Quartile Range, E = Minimum, and F = Outliers\n",
    "    \n",
    "QUESTION 12\n",
    "What is the correct combination of function and parameter to create a box plot in Matplotlib?\n",
    "output-\n",
    "     Function = plot, and Parameter = kind, with value = \"box\" \n",
    "\n",
    "QUESTION 13 \n",
    "Which of the lines of code below will create the following scatter plot, given the pandas dataframe, df_total?\n",
    "Image link-\n",
    "https://courses.cognitiveclass.ai/asset-v1:CognitiveClass+DV0101EN+v1+type@asset+block/scatter_plot.png\n",
    "\n",
    "Output-\n",
    "import matplotlib.pyplot as plt\n",
    "df_total.plot(kind='scatter', x='year', y='total')\n",
    "plt.title('Total Immigrant population to Canada from 1980 - 2013')\n",
    "plt.xlabel ('Year')\n",
    "plt.ylabel('Number of Immigrants')\n",
    "\n",
    "QUESTION 14 \n",
    "A bubble plot is a variation of the scatter plot that displays three dimensions of data.\n",
    "    output- True\n",
    "    \n",
    "QUESTION 15 \n",
    "Seaborn is a Python visualization library that is built on top of Matplotlib.\n",
    "    output- True  \n",
    "    \n",
    "QUESTION 16 \n",
    "Image link-\n",
    "https://courses.cognitiveclass.ai/asset-v1:CognitiveClass+DV0101EN+v1+type@asset+block/Screen_Shot_2017-07-24_at_9.25.35_AM.png\n",
    "\n",
    "Which of the choices below will create the following regression line plot, given a pandas dataframe, data_dataframe?\n",
    "\n",
    "Output-\n",
    "import seaborn as sns\n",
    "ax = sns.regplot(x=\"year\", y=\"total\", data=data_dataframe, color=\"green\", marker=\"+\")\n",
    "\n",
    "QUESTION 17\n",
    "A word cloud (choose all that apply)\n",
    "output-\n",
    "     is a depiction of the frequency of different words in some textual data.\n",
    "     is a depiction of the meaningful words in some textual data, where the more\n",
    "        a specific word appears in the text, the bigger and bolder it appears in the word cloud.\n",
    "     can be generated in Python using the word_cloud library that was developed by Andreas Mueller.\n",
    "\n",
    "QUESTION 18 \n",
    "The following are tile styles of folium maps (choose all that apply).\n",
    "output-\n",
    "    Stamen Terrain\n",
    "    Stamen Toner\n",
    "    Mapbox Bright\n",
    "\n",
    "QUESTION 19 \n",
    "You cluster markers superimposed onto a map in Folium using a marker cluster object.\n",
    "    output- True\n",
    "\n",
    "QUESTION 20 \n",
    "If you are interested in generating a map of Spain to explore its river meanders and coastal zones. \n",
    "Which of the following lines of code will create the right map for you?\n",
    "    output-  folium.Map(location=[40.4637, -3.7492], zoom_start=6, tiles='Stamen Toner')\n",
    "\n",
    "    \n"
   ]
  }
 ],
 "metadata": {
  "kernelspec": {
   "display_name": "Python 3",
   "language": "python",
   "name": "python3"
  },
  "language_info": {
   "codemirror_mode": {
    "name": "ipython",
    "version": 3
   },
   "file_extension": ".py",
   "mimetype": "text/x-python",
   "name": "python",
   "nbconvert_exporter": "python",
   "pygments_lexer": "ipython3",
   "version": "3.6.4"
  }
 },
 "nbformat": 4,
 "nbformat_minor": 2
}
