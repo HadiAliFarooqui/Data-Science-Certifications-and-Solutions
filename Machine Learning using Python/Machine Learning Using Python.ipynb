{
 "cells": [
  {
   "cell_type": "markdown",
   "metadata": {},
   "source": [
    "# Machine Learning with Python Cognitive Class ML0101ENv3"
   ]
  },
  {
   "cell_type": "markdown",
   "metadata": {},
   "source": [
    "# Module 1- Machine Learning"
   ]
  },
  {
   "cell_type": "code",
   "execution_count": null,
   "metadata": {},
   "outputs": [],
   "source": [
    "REVIEW QUESTION 1 \n",
    "Machine Learning uses algorithms that can learn from data without relying on explicitely programmed methods.\n",
    "    output- True\n",
    "\n",
    "REVIEW QUESTION 2 \n",
    "Which are the two types of Supervised learning techniques?\n",
    "    output-  Classification and Regression\n",
    "\n",
    "REVIEW QUESTION 3 \n",
    "Which of the following statements best describes the Python scikit library?\n",
    "    output-  A collection of algorithms and tools for machine learning.\n"
   ]
  },
  {
   "cell_type": "markdown",
   "metadata": {},
   "source": [
    "# Module 2- Regression"
   ]
  },
  {
   "cell_type": "code",
   "execution_count": null,
   "metadata": {},
   "outputs": [],
   "source": [
    "REVIEW QUESTION 1\n",
    "Train and Test on the Same Dataset might have a high training accuracy, but its out-of-sample accuracy can be low.\n",
    "    output- True\n",
    "\n",
    "REVIEW QUESTION 2 \n",
    "Which of the following matrices can be used to show the results of model accuracy\n",
    "evaluation or the model’s ability to correctly predict or separate the classes?\n",
    "    output- Confusion matrix \n",
    "    \n",
    "REVIEW QUESTION 3 \n",
    "When we should use Multiple Linear Regression?\n",
    "    output- When we would like to identify the strength of the effect that the\n",
    "    independent variables have on a dependent variable."
   ]
  },
  {
   "cell_type": "markdown",
   "metadata": {},
   "source": [
    "# Module 3- Classification"
   ]
  },
  {
   "cell_type": "code",
   "execution_count": null,
   "metadata": {},
   "outputs": [],
   "source": [
    "REVIEW QUESTION 1 \n",
    "In K-Nearest Neighbors, which of the following is true:\n",
    "    output- A very high value of K (ex. K = 100) produces an overly generalised model, \n",
    "    while a very low value of k (ex. k = 1) produces a highly complex model.\n",
    "    \n",
    "REVIEW QUESTION 2 \n",
    "A classifier with lower log loss has better accuracy.\n",
    "    output- True\n",
    "    \n",
    "REVIEW QUESTION 3 \n",
    "When building a decision tree, we want to split the nodes in a way that decreases entropy and increases information gain.\n",
    "    output- True"
   ]
  },
  {
   "cell_type": "markdown",
   "metadata": {},
   "source": [
    "# Module 4 - Clustering"
   ]
  },
  {
   "cell_type": "code",
   "execution_count": null,
   "metadata": {},
   "outputs": [],
   "source": [
    "REVIEW QUESTION 1 \n",
    "Which one is NOT TRUE about k-means clustering?\n",
    "    output- As k-means is an iterative algorithm, it guarantees that it will always converge to the global optimum.\n",
    "    \n",
    "REVIEW QUESTION 2 \n",
    "Customer Segmentation is a supervised way of clustering data, based on the similarity of customers to each other.\n",
    "    output- False\n",
    "\n",
    "REVIEW QUESTION 3 \n",
    "How is a center point (centroid) picked for each cluster in k-means?\n",
    "    output- We can randomly choose some observations out of the data set and \n",
    "    use these observations as the initial means. \n"
   ]
  },
  {
   "cell_type": "markdown",
   "metadata": {},
   "source": [
    "# Module 5 - Recommender Systems"
   ]
  },
  {
   "cell_type": "code",
   "execution_count": null,
   "metadata": {},
   "outputs": [],
   "source": [
    "REVIEW QUESTION 1\n",
    "Collaborative filtering is based on relationships between products and people’s rating patterns.\n",
    "    output- True\n",
    "    \n",
    "REVIEW QUESTION 2 \n",
    "Which one is TRUE about Content-based recommendation systems?\n",
    "    output- Content-based recommendation system tries to recommend items to the users based on their profile.\n",
    "    \n",
    "REVIEW QUESTION 3 \n",
    "Which one is correct about user-based and item-based collaborative filtering?\n",
    "    output-  In user-based approach, the recommendation is based on users of \n",
    "    the same neighborhood, with whom he/she shares common preferences."
   ]
  },
  {
   "cell_type": "markdown",
   "metadata": {},
   "source": [
    "# Test"
   ]
  },
  {
   "cell_type": "code",
   "execution_count": null,
   "metadata": {},
   "outputs": [],
   "source": [
    "QUESTION 1 \n",
    "You can define Jaccard as the size of the intersection divided by the size of the union of two label sets.\n",
    "    Output-True\n",
    "    \n",
    "QUESTION 2 \n",
    "When building a decision tree, we want to split the nodes in a way that increases entropy and decreases information gain.\n",
    "    output- False\n",
    "\n",
    "QUESTION 3 \n",
    "Which of the following statements are true? (Select all that apply.)\n",
    "output-\n",
    "    K needs to be initialized in K-Nearest Neighbor\n",
    "    Supervised learning works on labelled data\n",
    "    Unsupervised learning works on unlabelled data.\n",
    "\n",
    "\n",
    "QUESTION 4 \n",
    "To calculate a model’s accuracy using the test set, you pass the test set to \n",
    "your model to predict the class labels, and then compare the predicted values with actual values.\n",
    "    output- True\n",
    "\n",
    "QUESTION 5 \n",
    "Which is the definition of entropy?\n",
    "    output- The amount of information disorder in the data. \n",
    "    \n",
    "QUESTION 6 \n",
    "Which of the following is true about hierarchical linkages?\n",
    "output- Average linkage is the average distance of each point in one cluster to every point in another cluster \n",
    "\n",
    "QUESTION 7 \n",
    "The goal of regression is to build a model to accurately predict the continues value of a dependent variable for an unknown case.\n",
    "    Output- True\n",
    "\n",
    "QUESTION 8\n",
    "Which of the following statements are true about linear regression? (Select all that apply)\n",
    "    output- A) With linear regression, you can fit a line through the data. \n",
    "   B) y=a+b_x1 is the equation for a straight line, which can be used to predict the continuous value y.\n",
    "\n",
    "QUESTION 9 \n",
    "The Sigmoid function is the main part of logistic regression, where Sigmoid of 𝜃^𝑇.𝑋,\n",
    "gives us the probability of a point belonging to a class, instead of the value of y directly.\n",
    "    output- True\n",
    "\n",
    "QUESTION 10\n",
    "In comparison to supervised learning, unsupervised learning has:\n",
    "    output- Less tests (evaluation approaches) \n",
    "\n",
    "QUESTION 11 \n",
    "The points that are classified by Density-Based Clustering and do not belong to any cluster, are outliers.\n",
    "    output- True \n",
    "\n",
    "QUESTION 12\n",
    "Which of the following is false about Simple Linear Regression?\n",
    "    output- It is used for finding outliers     \n",
    "\n",
    "QUESTION 13\n",
    "Which one of the following statements is the most accurate?\n",
    "    output-Machine Learning is the branch of AI that covers the statistical and learning part of artificial intelligence.\n",
    "\n",
    "QUESTION 14 \n",
    "Which of the following are types of supervised learning?\n",
    "    output-\n",
    "         Classification  \n",
    "         Regression  \n",
    "         KNN\n",
    "\n",
    "QUESTION 15\n",
    "A Bottom-Up version of hierarchical clustering is known as Divisive clustering. \n",
    "It is a more popular method than the Agglomerative method.\n",
    "    output- False\n",
    "\n",
    "QUESTION 16 \n",
    "Select all the true statements related to Hierarchical clustering and K-Means.\n",
    "    output- \n",
    "     Hierarchical clustering does not require the number of clusters to be specified.\n",
    "     K-Means is more efficient than Hierarchical clustering for large datasets.\n",
    "\n",
    "QUESTION 17 \n",
    "What is a content-based recommendation system?\n",
    "    output- Content-based recommendation system tries to recommend items to the users \n",
    "    based on their profile built upon their preferences and taste. \n",
    "\n",
    "QUESTION 18 \n",
    "Before running Agglomerative clustering, you need to compute a distance/proximity matrix,\n",
    "which is an n by n table of all distances between each data point in each cluster of your dataset.\n",
    "    output- True\n",
    "\n",
    "QUESTION 19 \n",
    "Which of the following statements are true about DBSCAN? (Select all that apply)\n",
    "    output- \n",
    "    DBSCAN can be used when examining spatial data.\n",
    "    DBSCAN can be applied to tasks with arbitrary shaped clusters, or clusters within clusters.\n",
    "    DBSCAN can find any arbitrary shaped cluster without getting affected by noise.\n",
    "    \n",
    "QUESTION 20\n",
    "In recommender systems, \"cold start\" happens when you have a large dataset \n",
    "of users who have rated only a limited number of items.\n",
    "    output- False\n",
    "    \n"
   ]
  }
 ],
 "metadata": {
  "kernelspec": {
   "display_name": "Python 3",
   "language": "python",
   "name": "python3"
  },
  "language_info": {
   "codemirror_mode": {
    "name": "ipython",
    "version": 3
   },
   "file_extension": ".py",
   "mimetype": "text/x-python",
   "name": "python",
   "nbconvert_exporter": "python",
   "pygments_lexer": "ipython3",
   "version": "3.6.4"
  }
 },
 "nbformat": 4,
 "nbformat_minor": 2
}
